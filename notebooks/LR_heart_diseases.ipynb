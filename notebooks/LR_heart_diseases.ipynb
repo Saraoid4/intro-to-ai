{
 "cells": [
  {
   "cell_type": "markdown",
   "metadata": {},
   "source": [
    "This notebook can be run on mybinder: [![Binder](https://mybinder.org/badge_logo.svg)](https://mybinder.org/v2/git/https%3A%2F%2Fgricad-gitlab.univ-grenoble-alpes.fr%2Fchatelaf%2Fml-sicom3a/master?urlpath=lab/tree/notebooks/5bis_linear_models_lasso_logistic/)"
   ]
  },
  {
   "cell_type": "markdown",
   "metadata": {},
   "source": [
    "## Un échantillon rétrospectif d'hommes dans une région à haut risque de maladies cardiaques du Cap-Occidental, en Afrique du Sud. Il y a environ deux témoins pour chaque cas de maladie coronarienne (CHD). Beaucoup d'hommes atteints de CHD ont suivi un traitement pour réduire leur pression artérielle et d'autres programmes visant à diminuer leurs facteurs de risque après leur événement cardiaque. Dans certains cas, les mesures ont été effectuées après ces traitements. Ces données sont issues d'un ensemble plus vaste, décrit dans Rousseauw et al., 1983, South African Medical Journal.\n",
    "\n",
    "Nom de la variable\tDescription\n",
    "sbp:\tPression artérielle systolique\n",
    "tobacco:\tConsommation cumulée de tabac (kg)\n",
    "ldl:\tLipoprotéines de basse densité (cholestérol)\n",
    "adiposity:\tAdiposité\n",
    "famhist:\tAntécédents familiaux de maladies cardiaques (Présent=1, Absent=0)\n",
    "typea:\tComportement de type A\n",
    "obesity:\tObésité\n",
    "alcohol:\tConsommation actuelle d'alcool\n",
    "age:\tÂge au moment de l'apparition de la maladie\n",
    "chd\tRéponse : maladie coronarienne (Présente=1, Absente=0)"
   ]
  },
  {
   "cell_type": "markdown",
   "metadata": {},
   "source": [
    "#### Load the data set"
   ]
  },
  {
   "cell_type": "code",
   "execution_count": 2,
   "metadata": {},
   "outputs": [
    {
     "data": {
      "text/html": [
       "<div>\n",
       "<style scoped>\n",
       "    .dataframe tbody tr th:only-of-type {\n",
       "        vertical-align: middle;\n",
       "    }\n",
       "\n",
       "    .dataframe tbody tr th {\n",
       "        vertical-align: top;\n",
       "    }\n",
       "\n",
       "    .dataframe thead th {\n",
       "        text-align: right;\n",
       "    }\n",
       "</style>\n",
       "<table border=\"1\" class=\"dataframe\">\n",
       "  <thead>\n",
       "    <tr style=\"text-align: right;\">\n",
       "      <th></th>\n",
       "      <th>row.names</th>\n",
       "      <th>sbp</th>\n",
       "      <th>tobacco</th>\n",
       "      <th>ldl</th>\n",
       "      <th>adiposity</th>\n",
       "      <th>famhist</th>\n",
       "      <th>typea</th>\n",
       "      <th>obesity</th>\n",
       "      <th>alcohol</th>\n",
       "      <th>age</th>\n",
       "      <th>chd</th>\n",
       "    </tr>\n",
       "  </thead>\n",
       "  <tbody>\n",
       "    <tr>\n",
       "      <th>0</th>\n",
       "      <td>1</td>\n",
       "      <td>160</td>\n",
       "      <td>12.00</td>\n",
       "      <td>5.73</td>\n",
       "      <td>23.11</td>\n",
       "      <td>1</td>\n",
       "      <td>49</td>\n",
       "      <td>25.30</td>\n",
       "      <td>97.20</td>\n",
       "      <td>52</td>\n",
       "      <td>1</td>\n",
       "    </tr>\n",
       "    <tr>\n",
       "      <th>1</th>\n",
       "      <td>2</td>\n",
       "      <td>144</td>\n",
       "      <td>0.01</td>\n",
       "      <td>4.41</td>\n",
       "      <td>28.61</td>\n",
       "      <td>0</td>\n",
       "      <td>55</td>\n",
       "      <td>28.87</td>\n",
       "      <td>2.06</td>\n",
       "      <td>63</td>\n",
       "      <td>1</td>\n",
       "    </tr>\n",
       "    <tr>\n",
       "      <th>2</th>\n",
       "      <td>3</td>\n",
       "      <td>118</td>\n",
       "      <td>0.08</td>\n",
       "      <td>3.48</td>\n",
       "      <td>32.28</td>\n",
       "      <td>1</td>\n",
       "      <td>52</td>\n",
       "      <td>29.14</td>\n",
       "      <td>3.81</td>\n",
       "      <td>46</td>\n",
       "      <td>0</td>\n",
       "    </tr>\n",
       "    <tr>\n",
       "      <th>3</th>\n",
       "      <td>4</td>\n",
       "      <td>170</td>\n",
       "      <td>7.50</td>\n",
       "      <td>6.41</td>\n",
       "      <td>38.03</td>\n",
       "      <td>1</td>\n",
       "      <td>51</td>\n",
       "      <td>31.99</td>\n",
       "      <td>24.26</td>\n",
       "      <td>58</td>\n",
       "      <td>1</td>\n",
       "    </tr>\n",
       "    <tr>\n",
       "      <th>4</th>\n",
       "      <td>5</td>\n",
       "      <td>134</td>\n",
       "      <td>13.60</td>\n",
       "      <td>3.50</td>\n",
       "      <td>27.78</td>\n",
       "      <td>1</td>\n",
       "      <td>60</td>\n",
       "      <td>25.99</td>\n",
       "      <td>57.34</td>\n",
       "      <td>49</td>\n",
       "      <td>1</td>\n",
       "    </tr>\n",
       "  </tbody>\n",
       "</table>\n",
       "</div>"
      ],
      "text/plain": [
       "   row.names  sbp  tobacco   ldl  adiposity  famhist  typea  obesity  alcohol  \\\n",
       "0          1  160    12.00  5.73      23.11        1     49    25.30    97.20   \n",
       "1          2  144     0.01  4.41      28.61        0     55    28.87     2.06   \n",
       "2          3  118     0.08  3.48      32.28        1     52    29.14     3.81   \n",
       "3          4  170     7.50  6.41      38.03        1     51    31.99    24.26   \n",
       "4          5  134    13.60  3.50      27.78        1     60    25.99    57.34   \n",
       "\n",
       "   age  chd  \n",
       "0   52    1  \n",
       "1   63    1  \n",
       "2   46    0  \n",
       "3   58    1  \n",
       "4   49    1  "
      ]
     },
     "execution_count": 2,
     "metadata": {},
     "output_type": "execute_result"
    }
   ],
   "source": [
    "import pandas as pd\n",
    "import numpy as np\n",
    "\n",
    "# load data set\n",
    "heart = pd.read_csv(\"SAheart.csv\", sep=\",\", header=0)\n",
    "heart.head()  # data overview: variable names and first values"
   ]
  },
  {
   "cell_type": "markdown",
   "metadata": {},
   "source": [
    "#### Display some summary statistics"
   ]
  },
  {
   "cell_type": "code",
   "execution_count": 3,
   "metadata": {},
   "outputs": [
    {
     "data": {
      "text/html": [
       "<div>\n",
       "<style scoped>\n",
       "    .dataframe tbody tr th:only-of-type {\n",
       "        vertical-align: middle;\n",
       "    }\n",
       "\n",
       "    .dataframe tbody tr th {\n",
       "        vertical-align: top;\n",
       "    }\n",
       "\n",
       "    .dataframe thead th {\n",
       "        text-align: right;\n",
       "    }\n",
       "</style>\n",
       "<table border=\"1\" class=\"dataframe\">\n",
       "  <thead>\n",
       "    <tr style=\"text-align: right;\">\n",
       "      <th></th>\n",
       "      <th>row.names</th>\n",
       "      <th>sbp</th>\n",
       "      <th>tobacco</th>\n",
       "      <th>ldl</th>\n",
       "      <th>adiposity</th>\n",
       "      <th>famhist</th>\n",
       "      <th>typea</th>\n",
       "      <th>obesity</th>\n",
       "      <th>alcohol</th>\n",
       "      <th>age</th>\n",
       "      <th>chd</th>\n",
       "    </tr>\n",
       "  </thead>\n",
       "  <tbody>\n",
       "    <tr>\n",
       "      <th>count</th>\n",
       "      <td>462.000000</td>\n",
       "      <td>462.000000</td>\n",
       "      <td>462.000000</td>\n",
       "      <td>462.000000</td>\n",
       "      <td>462.000000</td>\n",
       "      <td>462.000000</td>\n",
       "      <td>462.000000</td>\n",
       "      <td>462.000000</td>\n",
       "      <td>462.000000</td>\n",
       "      <td>462.000000</td>\n",
       "      <td>462.000000</td>\n",
       "    </tr>\n",
       "    <tr>\n",
       "      <th>mean</th>\n",
       "      <td>231.935065</td>\n",
       "      <td>138.326840</td>\n",
       "      <td>3.635649</td>\n",
       "      <td>4.740325</td>\n",
       "      <td>25.406732</td>\n",
       "      <td>0.415584</td>\n",
       "      <td>53.103896</td>\n",
       "      <td>26.044113</td>\n",
       "      <td>17.044394</td>\n",
       "      <td>42.816017</td>\n",
       "      <td>0.346320</td>\n",
       "    </tr>\n",
       "    <tr>\n",
       "      <th>std</th>\n",
       "      <td>133.938585</td>\n",
       "      <td>20.496317</td>\n",
       "      <td>4.593024</td>\n",
       "      <td>2.070909</td>\n",
       "      <td>7.780699</td>\n",
       "      <td>0.493357</td>\n",
       "      <td>9.817534</td>\n",
       "      <td>4.213680</td>\n",
       "      <td>24.481059</td>\n",
       "      <td>14.608956</td>\n",
       "      <td>0.476313</td>\n",
       "    </tr>\n",
       "    <tr>\n",
       "      <th>min</th>\n",
       "      <td>1.000000</td>\n",
       "      <td>101.000000</td>\n",
       "      <td>0.000000</td>\n",
       "      <td>0.980000</td>\n",
       "      <td>6.740000</td>\n",
       "      <td>0.000000</td>\n",
       "      <td>13.000000</td>\n",
       "      <td>14.700000</td>\n",
       "      <td>0.000000</td>\n",
       "      <td>15.000000</td>\n",
       "      <td>0.000000</td>\n",
       "    </tr>\n",
       "    <tr>\n",
       "      <th>25%</th>\n",
       "      <td>116.250000</td>\n",
       "      <td>124.000000</td>\n",
       "      <td>0.052500</td>\n",
       "      <td>3.282500</td>\n",
       "      <td>19.775000</td>\n",
       "      <td>0.000000</td>\n",
       "      <td>47.000000</td>\n",
       "      <td>22.985000</td>\n",
       "      <td>0.510000</td>\n",
       "      <td>31.000000</td>\n",
       "      <td>0.000000</td>\n",
       "    </tr>\n",
       "    <tr>\n",
       "      <th>50%</th>\n",
       "      <td>231.500000</td>\n",
       "      <td>134.000000</td>\n",
       "      <td>2.000000</td>\n",
       "      <td>4.340000</td>\n",
       "      <td>26.115000</td>\n",
       "      <td>0.000000</td>\n",
       "      <td>53.000000</td>\n",
       "      <td>25.805000</td>\n",
       "      <td>7.510000</td>\n",
       "      <td>45.000000</td>\n",
       "      <td>0.000000</td>\n",
       "    </tr>\n",
       "    <tr>\n",
       "      <th>75%</th>\n",
       "      <td>347.750000</td>\n",
       "      <td>148.000000</td>\n",
       "      <td>5.500000</td>\n",
       "      <td>5.790000</td>\n",
       "      <td>31.227500</td>\n",
       "      <td>1.000000</td>\n",
       "      <td>60.000000</td>\n",
       "      <td>28.497500</td>\n",
       "      <td>23.892500</td>\n",
       "      <td>55.000000</td>\n",
       "      <td>1.000000</td>\n",
       "    </tr>\n",
       "    <tr>\n",
       "      <th>max</th>\n",
       "      <td>463.000000</td>\n",
       "      <td>218.000000</td>\n",
       "      <td>31.200000</td>\n",
       "      <td>15.330000</td>\n",
       "      <td>42.490000</td>\n",
       "      <td>1.000000</td>\n",
       "      <td>78.000000</td>\n",
       "      <td>46.580000</td>\n",
       "      <td>147.190000</td>\n",
       "      <td>64.000000</td>\n",
       "      <td>1.000000</td>\n",
       "    </tr>\n",
       "  </tbody>\n",
       "</table>\n",
       "</div>"
      ],
      "text/plain": [
       "        row.names         sbp     tobacco         ldl   adiposity     famhist  \\\n",
       "count  462.000000  462.000000  462.000000  462.000000  462.000000  462.000000   \n",
       "mean   231.935065  138.326840    3.635649    4.740325   25.406732    0.415584   \n",
       "std    133.938585   20.496317    4.593024    2.070909    7.780699    0.493357   \n",
       "min      1.000000  101.000000    0.000000    0.980000    6.740000    0.000000   \n",
       "25%    116.250000  124.000000    0.052500    3.282500   19.775000    0.000000   \n",
       "50%    231.500000  134.000000    2.000000    4.340000   26.115000    0.000000   \n",
       "75%    347.750000  148.000000    5.500000    5.790000   31.227500    1.000000   \n",
       "max    463.000000  218.000000   31.200000   15.330000   42.490000    1.000000   \n",
       "\n",
       "            typea     obesity     alcohol         age         chd  \n",
       "count  462.000000  462.000000  462.000000  462.000000  462.000000  \n",
       "mean    53.103896   26.044113   17.044394   42.816017    0.346320  \n",
       "std      9.817534    4.213680   24.481059   14.608956    0.476313  \n",
       "min     13.000000   14.700000    0.000000   15.000000    0.000000  \n",
       "25%     47.000000   22.985000    0.510000   31.000000    0.000000  \n",
       "50%     53.000000   25.805000    7.510000   45.000000    0.000000  \n",
       "75%     60.000000   28.497500   23.892500   55.000000    1.000000  \n",
       "max     78.000000   46.580000  147.190000   64.000000    1.000000  "
      ]
     },
     "execution_count": 3,
     "metadata": {},
     "output_type": "execute_result"
    }
   ],
   "source": [
    "heart.describe()"
   ]
  },
  {
   "cell_type": "markdown",
   "metadata": {},
   "source": [
    "#### Format the input/target data set"
   ]
  },
  {
   "cell_type": "code",
   "execution_count": 4,
   "metadata": {},
   "outputs": [
    {
     "name": "stdout",
     "output_type": "stream",
     "text": [
      "On a 462 échantillons: dont cas 160  et control 302\n"
     ]
    }
   ],
   "source": [
    "y = np.asarray(heart.iloc[:, 10], \"float\")\n",
    "X = np.asarray(heart.iloc[:, 1:10], \"float\")\n",
    "names = list(heart.columns[1:10])  # variable names\n",
    "y = heart.iloc[:, 10]\n",
    "X = heart.iloc[:, 1:10]\n",
    "\n",
    "# Data matrix X is (n,p) where p is the number of variable and n the number of sample\n",
    "(n, p) = X.shape\n",
    "ncases = int(np.sum(y))  # number of cases\n",
    "print(\"On a {} échantillons: dont cas {}  et control {:d}\".format(n, ncases, n - ncases))"
   ]
  },
  {
   "cell_type": "markdown",
   "metadata": {},
   "source": [
    "## Compute ordinary (without regularization) Logistic Regression"
   ]
  },
  {
   "cell_type": "code",
   "execution_count": 4,
   "metadata": {},
   "outputs": [
    {
     "name": "stdout",
     "output_type": "stream",
     "text": [
      "Computing LR estimates ...\n",
      "This took 0.006s\n",
      "Estimated Weights for standardized variables:\n",
      "\n"
     ]
    },
    {
     "data": {
      "text/html": [
       "<div>\n",
       "<style scoped>\n",
       "    .dataframe tbody tr th:only-of-type {\n",
       "        vertical-align: middle;\n",
       "    }\n",
       "\n",
       "    .dataframe tbody tr th {\n",
       "        vertical-align: top;\n",
       "    }\n",
       "\n",
       "    .dataframe thead th {\n",
       "        text-align: right;\n",
       "    }\n",
       "</style>\n",
       "<table border=\"1\" class=\"dataframe\">\n",
       "  <thead>\n",
       "    <tr style=\"text-align: right;\">\n",
       "      <th></th>\n",
       "      <th>sbp</th>\n",
       "      <th>tobacco</th>\n",
       "      <th>ldl</th>\n",
       "      <th>adiposity</th>\n",
       "      <th>famhist</th>\n",
       "      <th>typea</th>\n",
       "      <th>obesity</th>\n",
       "      <th>alcohol</th>\n",
       "      <th>age</th>\n",
       "      <th>intercept</th>\n",
       "    </tr>\n",
       "  </thead>\n",
       "  <tbody>\n",
       "    <tr>\n",
       "      <th>Weights</th>\n",
       "      <td>0.133165</td>\n",
       "      <td>0.364183</td>\n",
       "      <td>0.35979</td>\n",
       "      <td>0.144461</td>\n",
       "      <td>0.456041</td>\n",
       "      <td>0.388302</td>\n",
       "      <td>-0.264797</td>\n",
       "      <td>0.002973</td>\n",
       "      <td>0.659983</td>\n",
       "      <td>-0.878548</td>\n",
       "    </tr>\n",
       "  </tbody>\n",
       "</table>\n",
       "</div>"
      ],
      "text/plain": [
       "              sbp   tobacco      ldl  adiposity   famhist     typea   obesity  \\\n",
       "Weights  0.133165  0.364183  0.35979   0.144461  0.456041  0.388302 -0.264797   \n",
       "\n",
       "          alcohol       age  intercept  \n",
       "Weights  0.002973  0.659983  -0.878548  "
      ]
     },
     "execution_count": 4,
     "metadata": {},
     "output_type": "execute_result"
    }
   ],
   "source": [
    "from sklearn.linear_model import LogisticRegression\n",
    "from sklearn.preprocessing import StandardScaler\n",
    "from time import time\n",
    "\n",
    "\n",
    "sc = StandardScaler()\n",
    "X = heart.iloc[:, 1:10]\n",
    "Xs = sc.fit_transform(X)\n",
    "\n",
    "print(\"Optimisation ...\")\n",
    "start = time()\n",
    "clf = LogisticRegression(penalty=None, tol=1e-6, max_iter=int(1e6))\n",
    "clf.fit(Xs, y)\n",
    "print(\"temps d'éxecution\" % (time() - start))\n",
    "betas = pd.DataFrame.from_records(clf.coef_, columns=names, index=[\"Weights\"])\n",
    "betas[\"intercept\"] = clf.intercept_\n",
    "print(\"Estimated Weights for standardized variables:\\n\")\n",
    "betas.head()"
   ]
  },
  {
   "cell_type": "markdown",
   "metadata": {},
   "source": [
    "**Exercice**:\n",
    "Que signifie un poids positif, négatif ou proche de zéro pour prédire une maladie cardiaque ?\n",
    "Comment interprétez-vous le poids de l'obésité, par exemple ?\n",
    "Comment expliquez-vous de tels résultats surprenants ?"
   ]
  },
  {
   "cell_type": "markdown",
   "metadata": {},
   "source": [
    "\n",
    "## Par exemple, pour une régression logistique avec une régularisation de type Lasso (pénalité $\\ell_1$), on obtient, pour une classification binaire où $y_i \\in {-1,+1}$, le problème d’optimisation suivant :\n",
    "$$\n",
    "\\min_{\\beta}   \\sum_{i=1}^n \\log(\\exp(- y_i (X_i^T \\beta )) + 1) +  \\lambda \\| \\beta \\|_1.$$"
   ]
  },
  {
   "cell_type": "code",
   "execution_count": 6,
   "metadata": {},
   "outputs": [
    {
     "name": "stdout",
     "output_type": "stream",
     "text": [
      "Computing regularization path ...\n",
      "Temps 0.126s\n"
     ]
    }
   ],
   "source": [
    "# compute lasso path\n",
    "from sklearn.linear_model import LogisticRegression\n",
    "from sklearn.preprocessing import StandardScaler\n",
    "from time import time\n",
    "from sklearn.svm import l1_min_c\n",
    "\n",
    "import matplotlib.pyplot as plt\n",
    "\n",
    "# Normaliser les données est important\n",
    "sc = StandardScaler()\n",
    "Xs = sc.fit_transform(X)  # center  (zero mean) and reduce (unit variance) the variables\n",
    "Xs = pd.DataFrame.from_records(Xs, columns=names)\n",
    "\n",
    "\n",
    "cs = l1_min_c(Xs, y, loss=\"log\") * np.logspace(0, 4, 30)\n",
    "\n",
    "\n",
    "print(\"Computing regularization path ...\")\n",
    "start = time()\n",
    "clf = LogisticRegression(\n",
    "    penalty=\"l1\", solver=\"saga\", tol=1e-6, max_iter=int(1e6), warm_start=True\n",
    ")\n",
    "coefs_ = []\n",
    "beta_l1norm = []\n",
    "for c in cs:\n",
    "    clf.set_params(C=c)\n",
    "    clf.fit(Xs, y)\n",
    "    beta_l1norm.append(np.sum(np.abs(clf.coef_.ravel())))\n",
    "    coefs_.append(clf.coef_.ravel().copy())\n",
    "print(\"Temps %0.3fs\" % (time() - start))\n",
    "\n",
    "betas = np.array(coefs_)"
   ]
  },
  {
   "cell_type": "code",
   "execution_count": 32,
   "metadata": {},
   "outputs": [
    {
     "data": {
      "text/plain": [
       "np.float64(0.012197160838705283)"
      ]
     },
     "execution_count": 32,
     "metadata": {},
     "output_type": "execute_result"
    }
   ],
   "source": [
    "l1_min_c(Xs, y, loss=\"log\")"
   ]
  },
  {
   "cell_type": "code",
   "execution_count": 9,
   "metadata": {},
   "outputs": [
    {
     "data": {
      "image/png": "[encoded data removed]",
      "text/plain": [
       "<Figure size 1200x600 with 1 Axes>"
      ]
     },
     "metadata": {},
     "output_type": "display_data"
    }
   ],
   "source": [
    "plt.figure(figsize=(12, 6))\n",
    "#plt.plot(np.log10(cs), coefs_, marker='o')\n",
    "plt.plot(beta_l1norm, betas, marker=\"o\")\n",
    "ymin, ymax = plt.ylim()\n",
    "plt.xlabel(\"l1 norm of beta\")\n",
    "plt.ylabel(\"Coefficients\")\n",
    "plt.title(\"Logistic Regression Path\")\n",
    "plt.axis(\"tight\")\n",
    "plt.legend(names, fontsize=14)\n",
    "plt.grid(\"On\")\n",
    "plt.show()"
   ]
  },
  {
   "cell_type": "code",
   "execution_count": 12,
   "metadata": {},
   "outputs": [
    {
     "name": "stdout",
     "output_type": "stream",
     "text": [
      "Computing K-fold CV ...\n",
      "Temps 0.524s\n"
     ]
    }
   ],
   "source": [
    "from sklearn.linear_model import LogisticRegressionCV\n",
    "\n",
    "print(\"Computing K-fold CV ...\")\n",
    "# K fold cross validation  (K=5)\n",
    "start = time()\n",
    "cs = l1_min_c(Xs, y, loss=\"log\") * np.logspace(\n",
    "    0, 2, 50\n",
    ")  # the vector fot the alpha (lasso penalty parameter) values\n",
    "model = LogisticRegressionCV(Cs=cs, cv=5, penalty=\"l1\", solver=\"saga\", tol=1e-6).fit(\n",
    "    Xs, y\n",
    ")\n",
    "print(\"Temps %0.3fs\" % (time() - start))"
   ]
  },
  {
   "cell_type": "code",
   "execution_count": 13,
   "metadata": {},
   "outputs": [
    {
     "name": "stdout",
     "output_type": "stream",
     "text": [
      "CV estimates:\n",
      "- lambda = 0.060, which yields ||beta||_1 = 1.342\n",
      "\n",
      "CV weights for standardized variables:\n"
     ]
    },
    {
     "data": {
      "text/html": [
       "<div>\n",
       "<style scoped>\n",
       "    .dataframe tbody tr th:only-of-type {\n",
       "        vertical-align: middle;\n",
       "    }\n",
       "\n",
       "    .dataframe tbody tr th {\n",
       "        vertical-align: top;\n",
       "    }\n",
       "\n",
       "    .dataframe thead th {\n",
       "        text-align: right;\n",
       "    }\n",
       "</style>\n",
       "<table border=\"1\" class=\"dataframe\">\n",
       "  <thead>\n",
       "    <tr style=\"text-align: right;\">\n",
       "      <th></th>\n",
       "      <th>sbp</th>\n",
       "      <th>tobacco</th>\n",
       "      <th>ldl</th>\n",
       "      <th>adiposity</th>\n",
       "      <th>famhist</th>\n",
       "      <th>typea</th>\n",
       "      <th>obesity</th>\n",
       "      <th>alcohol</th>\n",
       "      <th>age</th>\n",
       "      <th>intercept</th>\n",
       "    </tr>\n",
       "  </thead>\n",
       "  <tbody>\n",
       "    <tr>\n",
       "      <th>Weights</th>\n",
       "      <td>0.0</td>\n",
       "      <td>0.232516</td>\n",
       "      <td>0.199362</td>\n",
       "      <td>0.0</td>\n",
       "      <td>0.284652</td>\n",
       "      <td>0.112161</td>\n",
       "      <td>0.0</td>\n",
       "      <td>0.0</td>\n",
       "      <td>0.513102</td>\n",
       "      <td>-0.745617</td>\n",
       "    </tr>\n",
       "  </tbody>\n",
       "</table>\n",
       "</div>"
      ],
      "text/plain": [
       "         sbp   tobacco       ldl  adiposity   famhist     typea  obesity  \\\n",
       "Weights  0.0  0.232516  0.199362        0.0  0.284652  0.112161      0.0   \n",
       "\n",
       "         alcohol       age  intercept  \n",
       "Weights      0.0  0.513102  -0.745617  "
      ]
     },
     "execution_count": 13,
     "metadata": {},
     "output_type": "execute_result"
    }
   ],
   "source": [
    "# Now model is tuned with the penalty parameter estimated by CV\n",
    "lambda_cv = model.C_[0]\n",
    "# The coef estimated with CV\n",
    "beta_l1norm = np.sum(np.abs(model.coef_))\n",
    "\n",
    "print(\"CV estimates:\")\n",
    "print(\n",
    "    \"- lambda = {:.3f}, which yields ||beta||_1 = {:.3f}\\n\".format(\n",
    "        lambda_cv, beta_l1norm\n",
    "    )\n",
    ")\n",
    "print(\"CV weights for standardized variables:\")\n",
    "betas_cv = pd.DataFrame.from_records(model.coef_, columns=names, index=[\"Weights\"])\n",
    "betas_cv[\"intercept\"] = model.intercept_\n",
    "betas_cv.head()"
   ]
  },
  {
   "cell_type": "markdown",
   "metadata": {},
   "source": [
    "### Exercice\n",
    "- What are the only significant variables estimated with cross-validation? \n",
    "- How can we rank them by significance order (*hint: look at the lasso path*)?\n",
    "- Do these results seem more credible (than those obtain without regularization) to predict heart diseases? "
   ]
  },
  {
   "cell_type": "markdown",
   "metadata": {},
   "source": [
    "### Calculer la probabilité de CHD pour quelques patients\n",
    "\n",
    "Pour ce type de problème, nous nous intéressons davantage à la modélisation des relations entre les variables explicatives et la variable réponse, ainsi qu'à leur interprétation, plutôt qu'à la simple prédiction des réponses binaires (présence ou absence de CHD). Avec un modèle linéaire généralisé tel que la régression logistique, il est possible de calculer une probabilité de risque pour chaque patient et d'évaluer l'influence de chaque variable de manière interprétable."
   ]
  },
  {
   "cell_type": "code",
   "execution_count": 28,
   "metadata": {},
   "outputs": [
    {
     "name": "stdout",
     "output_type": "stream",
     "text": [
      "**Case** patient with (standardized) features:\n",
      "         sbp   tobacco       ldl  adiposity   famhist     typea   obesity  \\\n",
      "10  3.305302  0.515328 -0.865449   0.883045 -0.843274  1.926817  0.181959   \n",
      "\n",
      "     alcohol       age  \n",
      "10  1.595433  1.177539  \n",
      "\n",
      "Proba (CHD) sans ajout consommation: 0.446\n",
      "Proba (CHD) après ajout consommation: 0.504\n"
     ]
    }
   ],
   "source": [
    "# Get the predicted risk for the first patient\n",
    "ipatient = 10 # patient index\n",
    "x = Xs.loc[ipatient:ipatient, :]  # x is a dataframe with column names\n",
    "\n",
    "ylabel = \"Case\" if y[ipatient] else \"Control\"\n",
    "print(\"**{}** patient with (standardized) features:\\n{}\\n\".format(ylabel, x))\n",
    "\n",
    "# TODO: augmenter/dimuner la consommation du tabac\n",
    "x_copy = x.copy()\n",
    "x_copy[\"tobacco\"] += 1\n",
    "\n",
    "# Proba of heart disease\n",
    "proba_CHD_0 = model.predict_proba(x)[0, 1]\n",
    "proba_CHD = model.predict_proba(x_copy)[0, 1]\n",
    "print(\"Proba (CHD) sans ajout consommation: {:.3f}\".format(proba_CHD_0))\n",
    "print(\"Proba (CHD) après ajout consommation: {:.3f}\".format(proba_CHD))"
   ]
  },
  {
   "cell_type": "code",
   "execution_count": 31,
   "metadata": {},
   "outputs": [
    {
     "name": "stdout",
     "output_type": "stream",
     "text": [
      "poids estimé pour : 0.23\n",
      "Augmentation de risque quand la consommation augmente de 1 0.23\n"
     ]
    }
   ],
   "source": [
    "w_tobacco = betas_cv[\"tobacco\"].to_numpy()[0] \n",
    "print(\"poids estimé pour : {:.2f}\".format(w_tobacco))\n",
    "# Calcul des cotes (odds) avant et après modification\n",
    "odds_0 = proba_CHD_0 / (1 - proba_CHD_0)\n",
    "odds = proba_CHD / (1 - proba_CHD)\n",
    "print(\"Augmentation de risque quand la consommation augmente de 1 {:.2f}\".format(np.log(odds/odds_0)) )"
   ]
  },
  {
   "cell_type": "code",
   "execution_count": null,
   "metadata": {},
   "outputs": [],
   "source": []
  }
 ],
 "metadata": {
  "kernelspec": {
   "display_name": "Python 3 (ipykernel)",
   "language": "python",
   "name": "python3"
  },
  "language_info": {
   "codemirror_mode": {
    "name": "ipython",
    "version": 3
   },
   "file_extension": ".py",
   "mimetype": "text/x-python",
   "name": "python",
   "nbconvert_exporter": "python",
   "pygments_lexer": "ipython3",
   "version": "3.11.9"
  },
  "widgets": {
   "application/vnd.jupyter.widget-state+json": {
    "state": {},
    "version_major": 2,
    "version_minor": 0
   }
  }
 },
 "nbformat": 4,
 "nbformat_minor": 4
}
